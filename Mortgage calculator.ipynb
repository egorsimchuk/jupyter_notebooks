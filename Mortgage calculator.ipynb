{
 "cells": [
  {
   "cell_type": "code",
   "execution_count": null,
   "id": "c570aab3-b94d-4e8f-8ac1-bc3da4812dd5",
   "metadata": {
    "tags": [],
    "pycharm": {
     "name": "#%%\n"
    }
   },
   "outputs": [],
   "source": [
    "import pandas as pd\n",
    "import plotly.graph_objects as go\n",
    "from plotly.subplots import make_subplots\n",
    "import plotly.graph_objects as go"
   ]
  },
  {
   "cell_type": "code",
   "execution_count": null,
   "id": "438bd4c3-e95c-4068-bae3-3d78ecb02a32",
   "metadata": {
    "tags": [],
    "pycharm": {
     "name": "#%%\n"
    }
   },
   "outputs": [],
   "source": [
    "def calc_remains(ser, paid):\n",
    "    remain = ser[\"стоимость\"] - ser.первоначальный_взнос\n",
    "    remain_arr = [remain]\n",
    "    while remain>0:\n",
    "        remain = (remain - paid) * (1+0.004167)\n",
    "        remain_arr.append(remain)\n",
    "    return remain_arr\n",
    "\n",
    "def generate_payments_df(ser):\n",
    "    payments = pd.DataFrame({\"remain\":calc_remains(ser, плата_по_кредиту)})\n",
    "    payments = payments.reset_index()\n",
    "    payments.columns = [\"month\", \"remain\"]\n",
    "    payments[\"credit_payment\"] = плата_по_кредиту\n",
    "    payments.loc[0, \"first_pay\"] = ser.первоначальный_взнос\n",
    "    payments.loc[0:ser.можно_заехать_через_месяцев-1, \"repair_payments\"] = ser.стоимость_ремонта/ser.можно_заехать_через_месяцев\n",
    "    payments.loc[0:ser.можно_заехать_через_месяцев-1, \"rent_payments\"] = стоимость_аренды\n",
    "    payments = payments.fillna(0)\n",
    "    \n",
    "    payments[\"cum_first_pay\"] = payments[\"first_pay\"].cumsum()\n",
    "    payments[\"cum_credit_payment\"] = payments[\"credit_payment\"].cumsum()\n",
    "    payments[\"cum_repair_payments\"] = payments[\"repair_payments\"].cumsum()\n",
    "    payments[\"cum_rent_payments\"] = payments[\"rent_payments\"].cumsum()\n",
    "    \n",
    "    \n",
    "    payments[\"cum_payment\"] = payments[\"cum_first_pay\"]+payments[\"cum_credit_payment\"]+payments[\"cum_repair_payments\"]+payments[\"cum_rent_payments\"]\n",
    "    payments[\"year\"] = payments[\"month\"]/12\n",
    "    return payments\n"
   ]
  },
  {
   "cell_type": "code",
   "execution_count": null,
   "id": "23b569db-e6ab-456f-b55e-44cc21bf99fe",
   "metadata": {
    "tags": [],
    "pycharm": {
     "name": "#%%\n"
    }
   },
   "outputs": [],
   "source": [
    "def make_report(df):\n",
    "    df[\"ставка_месячная\"] = df[\"ставка\"]/12\n",
    "    df[\"выплаченная_аренда_до_времени_заезда\"] = df[\"можно_заехать_через_месяцев\"] * стоимость_аренды\n",
    "    df[\"первоначальный_взнос\"] = сумма_на_руках - df[\"стоимость_ремонта\"]\n",
    "\n",
    "    ser1 = df.iloc[0]\n",
    "    payments_1 = generate_payments_df(ser1)\n",
    "    ser2 = df.iloc[1]\n",
    "    payments_2 = generate_payments_df(ser2)\n",
    "    fig = make_subplots(rows=1, cols=2, shared_yaxes=True,\n",
    "        subplot_titles=[\n",
    "        f\"{ser1.тип} за {round(ser1.стоимость/1e6, 1)} млн, с ремонтом за {ser1.стоимость_ремонта/1e6} млн и заселением через {round(ser1.можно_заехать_через_месяцев/12,1)} лет.  <br> sum={round(payments_1.cum_payment.iloc[-1]/1e6, 1)} млн\",\n",
    "        f\"{ser2.тип} за {round(ser2.стоимость/1e6, 1)} млн, с ремонтом за {ser2.стоимость_ремонта/1e6} млн и заселением через {round(ser2.можно_заехать_через_месяцев/12,1)} лет. <br> sum={round(payments_2.cum_payment.iloc[-1]/1e6, 1)} млн\"\n",
    "        ])\n",
    "\n",
    "    fig.add_trace(go.Scatter(x=payments_1.year, y=payments_1.cum_first_pay, mode='lines', stackgroup='one', name=\"cum_first_pay\", line_color=\"#0d0887\"),row=1, col=1)\n",
    "    fig.add_trace(go.Scatter(x=payments_1.year, y=payments_1.cum_repair_payments, mode='lines', stackgroup='one', name=\"cum_repair_payments\", line_color=\"#1f77b4\"),row=1, col=1)\n",
    "    fig.add_trace(go.Scatter(x=payments_1.year, y=payments_1.cum_rent_payments, mode='lines', stackgroup='one', name=\"cum_rent_payments\", line_color=\"#ff7f0e\"),row=1, col=1)\n",
    "    fig.add_trace(go.Scatter(x=payments_1.year, y=payments_1.cum_credit_payment, mode='lines', stackgroup='one', name=\"cum_credit_payment\", line_color=\"#2ca02c\"),row=1, col=1)\n",
    "\n",
    "    fig.add_trace(go.Scatter(x=payments_2.year, y=payments_2.cum_first_pay, mode='lines', stackgroup='one', name=\"cum_first_pay\", line_color=\"#0d0887\"),row=1, col=2)\n",
    "    fig.add_trace(go.Scatter(x=payments_2.year, y=payments_2.cum_repair_payments, mode='lines', stackgroup='one', name=\"cum_repair_payments\", line_color=\"#1f77b4\"),row=1, col=2)\n",
    "    fig.add_trace(go.Scatter(x=payments_2.year, y=payments_2.cum_rent_payments, mode='lines', stackgroup='one', name=\"cum_rent_payments\", line_color=\"#ff7f0e\"),row=1, col=2)\n",
    "    fig.add_trace(go.Scatter(x=payments_2.year, y=payments_2.cum_credit_payment, mode='lines', stackgroup='one', name=\"cum_credit_payment\", line_color=\"#2ca02c\"),row=1, col=2)\n",
    "\n",
    "\n",
    "    fig.update_layout(height=500, xaxis_title=\"Месяц\", yaxis_title=\"Кумулятивная плата\",)\n",
    "    fig.show()\n",
    "    return payments_1, payments_2"
   ]
  },
  {
   "cell_type": "code",
   "execution_count": null,
   "id": "396b0e8d-19d1-4d12-91cf-e5202acb1ff0",
   "metadata": {
    "tags": [],
    "pycharm": {
     "name": "#%%\n"
    }
   },
   "outputs": [],
   "source": [
    "сумма_на_руках = 5_000_000\n",
    "стоимость_аренды = 50_000\n",
    "плата_по_кредиту = 100_000\n",
    "\n",
    "var_1 = {\"тип\":\"неоч вторичка\", \"стоимость\": 16_000_000, \"ставка\": 0.10, \"стоимость_ремонта\": 2_000_000, \"можно_заехать_через_месяцев\": 6}\n",
    "var_2 = {\"тип\":\"нормальная вторичка\", \"стоимость\": 18_000_000, \"ставка\": 0.10, \"стоимость_ремонта\": 500_000, \"можно_заехать_через_месяцев\": 1}\n",
    "df = pd.DataFrame([var_1,var_2])\n",
    "payments_1, payments_2 = make_report(df)"
   ]
  }
 ],
 "metadata": {
  "kernelspec": {
   "display_name": "Python 3 (ipykernel)",
   "language": "python",
   "name": "python3"
  },
  "language_info": {
   "codemirror_mode": {
    "name": "ipython",
    "version": 3
   },
   "file_extension": ".py",
   "mimetype": "text/x-python",
   "name": "python",
   "nbconvert_exporter": "python",
   "pygments_lexer": "ipython3",
   "version": "3.8.16"
  }
 },
 "nbformat": 4,
 "nbformat_minor": 5
}